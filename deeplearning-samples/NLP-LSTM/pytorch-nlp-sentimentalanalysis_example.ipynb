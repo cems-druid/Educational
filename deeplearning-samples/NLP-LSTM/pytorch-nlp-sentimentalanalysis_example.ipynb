{
 "cells": [
  {
   "cell_type": "code",
   "execution_count": 14,
   "id": "rapid-kitchen",
   "metadata": {},
   "outputs": [
    {
     "data": {
      "text/plain": [
       "0      so there is no way for me to plug it in here i...\n",
       "1                            good case, excellent value.\n",
       "2                                 great for the jawbone.\n",
       "3      tied to charger for conversations lasting more...\n",
       "4                                      the mic is great.\n",
       "                             ...                        \n",
       "995    the screen does get smudged easily because it ...\n",
       "996    what a piece of junk.. i lose more calls on th...\n",
       "997                         item does not match picture.\n",
       "998    the only thing that disappoint me is the infra...\n",
       "999    you can not answer calls with the unit, never ...\n",
       "Name: 0, Length: 1000, dtype: object"
      ]
     },
     "execution_count": 14,
     "metadata": {},
     "output_type": "execute_result"
    }
   ],
   "source": [
    "import pandas as pd\n",
    "import numpy as np\n",
    "import matplotlib.pyplot as plt\n",
    "from string import punctuation\n",
    "from sklearn.metrics import accuracy_score\n",
    "import torch\n",
    "from torch import nn, optim\n",
    "import torch.nn.functional as F\n",
    "torch.manual_seed(0)\n",
    "\n",
    "#import\n",
    "data = pd.read_csv(\"amazon_reviews.txt\", sep=\"\\t\", header=None)\n",
    "#partition the clumns and make it lowercase for text\n",
    "reviews = data.iloc[:,0].str.lower()\n",
    "sentiment = data.iloc[:,1].values\n",
    "    "
   ]
  },
  {
   "cell_type": "code",
   "execution_count": 16,
   "id": "lightweight-strip",
   "metadata": {},
   "outputs": [
    {
     "name": "stderr",
     "output_type": "stream",
     "text": [
      "<ipython-input-16-cb09248c99de>:2: FutureWarning: The default value of regex will change from True to False in a future version. In addition, single character regular expressions will*not* be treated as literal strings when regex=True.\n",
      "  reviews = reviews.str.replace(i,\"\")\n"
     ]
    },
    {
     "data": {
      "text/plain": [
       "0      so there is no way for me to plug it in here i...\n",
       "1                              good case excellent value\n",
       "2                                  great for the jawbone\n",
       "3      tied to charger for conversations lasting more...\n",
       "4                                       the mic is great\n",
       "                             ...                        \n",
       "995    the screen does get smudged easily because it ...\n",
       "996    what a piece of junk i lose more calls on this...\n",
       "997                          item does not match picture\n",
       "998    the only thing that disappoint me is the infra...\n",
       "999    you can not answer calls with the unit never w...\n",
       "Name: 0, Length: 1000, dtype: object"
      ]
     },
     "execution_count": 16,
     "metadata": {},
     "output_type": "execute_result"
    }
   ],
   "source": [
    "#remove all punctuations\n",
    "for i in punctuation:\n",
    "    reviews = reviews.str.replace(i,\"\")\n",
    "reviews"
   ]
  },
  {
   "cell_type": "code",
   "execution_count": 36,
   "id": "first-parent",
   "metadata": {},
   "outputs": [],
   "source": [
    "#make every review into one \n",
    "words = ' '.join(reviews)\n",
    "#splitting every word\n",
    "words = words.split()\n",
    "#bunching together\n",
    "vocabuary = set(words)\n",
    "indexer = {word : index for (index,word) in enumerate(vocabuary)}\n",
    "#Putting the numeric representation of words into a list\n",
    "indexed_review = []\n",
    "for review in reviews:\n",
    "    indexed_review.append([indexer[word] for word in review.split()])\n"
   ]
  },
  {
   "cell_type": "code",
   "execution_count": 44,
   "id": "subjective-beauty",
   "metadata": {},
   "outputs": [
    {
     "name": "stderr",
     "output_type": "stream",
     "text": [
      "D:\\Akademik\\ProgramsAndIDEs\\Anaconda\\envs\\deep_learningPytorch\\lib\\site-packages\\numpy\\core\\_asarray.py:102: FutureWarning: The input object of type 'Tensor' is an array-like implementing one of the corresponding protocols (`__array__`, `__array_interface__` or `__array_struct__`); but not a sequence (or 0-D). In the future, this object will be coerced as if it was first converted using `np.array(obj)`. To retain the old behaviour, you have to either modify the type 'Tensor', or assign to an empty array created with `np.empty(correct_shape, dtype=object)`.\n",
      "  return array(a, dtype, copy=False, order=order)\n",
      "D:\\Akademik\\ProgramsAndIDEs\\Anaconda\\envs\\deep_learningPytorch\\lib\\site-packages\\sklearn\\utils\\multiclass.py:151: FutureWarning: The input object of type 'Tensor' is an array-like implementing one of the corresponding protocols (`__array__`, `__array_interface__` or `__array_struct__`); but not a sequence (or 0-D). In the future, this object will be coerced as if it was first converted using `np.array(obj)`. To retain the old behaviour, you have to either modify the type 'Tensor', or assign to an empty array created with `np.empty(correct_shape, dtype=object)`.\n",
      "  y = np.array(y, dtype=object)\n",
      "D:\\Akademik\\ProgramsAndIDEs\\Anaconda\\envs\\deep_learningPytorch\\lib\\site-packages\\numpy\\core\\_asarray.py:102: FutureWarning: The input object of type 'Tensor' is an array-like implementing one of the corresponding protocols (`__array__`, `__array_interface__` or `__array_struct__`); but not a sequence (or 0-D). In the future, this object will be coerced as if it was first converted using `np.array(obj)`. To retain the old behaviour, you have to either modify the type 'Tensor', or assign to an empty array created with `np.empty(correct_shape, dtype=object)`.\n",
      "  return array(a, dtype, copy=False, order=order)\n"
     ]
    },
    {
     "ename": "ValueError",
     "evalue": "Classification metrics can't handle a mix of unknown and binary targets",
     "output_type": "error",
     "traceback": [
      "\u001b[1;31m---------------------------------------------------------------------------\u001b[0m",
      "\u001b[1;31mValueError\u001b[0m                                Traceback (most recent call last)",
      "\u001b[1;32m<ipython-input-44-15b001c30a49>\u001b[0m in \u001b[0;36m<module>\u001b[1;34m\u001b[0m\n\u001b[0;32m     47\u001b[0m \u001b[1;33m\u001b[0m\u001b[0m\n\u001b[0;32m     48\u001b[0m     \u001b[0mlosses\u001b[0m\u001b[1;33m.\u001b[0m\u001b[0mappend\u001b[0m\u001b[1;33m(\u001b[0m\u001b[0mnp\u001b[0m\u001b[1;33m.\u001b[0m\u001b[0mmean\u001b[0m\u001b[1;33m(\u001b[0m\u001b[0msingle_loss\u001b[0m\u001b[1;33m)\u001b[0m\u001b[1;33m)\u001b[0m\u001b[1;33m\u001b[0m\u001b[1;33m\u001b[0m\u001b[0m\n\u001b[1;32m---> 49\u001b[1;33m     \u001b[0maccuracy\u001b[0m \u001b[1;33m=\u001b[0m \u001b[0maccuracy_score\u001b[0m\u001b[1;33m(\u001b[0m\u001b[0mtargets\u001b[0m\u001b[1;33m,\u001b[0m \u001b[0mpreds\u001b[0m\u001b[1;33m)\u001b[0m\u001b[1;33m\u001b[0m\u001b[1;33m\u001b[0m\u001b[0m\n\u001b[0m\u001b[0;32m     50\u001b[0m     \u001b[0macc\u001b[0m\u001b[1;33m.\u001b[0m\u001b[0mappend\u001b[0m\u001b[1;33m(\u001b[0m\u001b[0maccuracy\u001b[0m\u001b[1;33m)\u001b[0m\u001b[1;33m\u001b[0m\u001b[1;33m\u001b[0m\u001b[0m\n\u001b[0;32m     51\u001b[0m     \u001b[1;32mif\u001b[0m \u001b[0me\u001b[0m\u001b[1;33m%\u001b[0m\u001b[1;36m1\u001b[0m \u001b[1;33m==\u001b[0m \u001b[1;36m0\u001b[0m\u001b[1;33m:\u001b[0m\u001b[1;33m\u001b[0m\u001b[1;33m\u001b[0m\u001b[0m\n",
      "\u001b[1;32mD:\\Akademik\\ProgramsAndIDEs\\Anaconda\\envs\\deep_learningPytorch\\lib\\site-packages\\sklearn\\utils\\validation.py\u001b[0m in \u001b[0;36minner_f\u001b[1;34m(*args, **kwargs)\u001b[0m\n\u001b[0;32m     61\u001b[0m             \u001b[0mextra_args\u001b[0m \u001b[1;33m=\u001b[0m \u001b[0mlen\u001b[0m\u001b[1;33m(\u001b[0m\u001b[0margs\u001b[0m\u001b[1;33m)\u001b[0m \u001b[1;33m-\u001b[0m \u001b[0mlen\u001b[0m\u001b[1;33m(\u001b[0m\u001b[0mall_args\u001b[0m\u001b[1;33m)\u001b[0m\u001b[1;33m\u001b[0m\u001b[1;33m\u001b[0m\u001b[0m\n\u001b[0;32m     62\u001b[0m             \u001b[1;32mif\u001b[0m \u001b[0mextra_args\u001b[0m \u001b[1;33m<=\u001b[0m \u001b[1;36m0\u001b[0m\u001b[1;33m:\u001b[0m\u001b[1;33m\u001b[0m\u001b[1;33m\u001b[0m\u001b[0m\n\u001b[1;32m---> 63\u001b[1;33m                 \u001b[1;32mreturn\u001b[0m \u001b[0mf\u001b[0m\u001b[1;33m(\u001b[0m\u001b[1;33m*\u001b[0m\u001b[0margs\u001b[0m\u001b[1;33m,\u001b[0m \u001b[1;33m**\u001b[0m\u001b[0mkwargs\u001b[0m\u001b[1;33m)\u001b[0m\u001b[1;33m\u001b[0m\u001b[1;33m\u001b[0m\u001b[0m\n\u001b[0m\u001b[0;32m     64\u001b[0m \u001b[1;33m\u001b[0m\u001b[0m\n\u001b[0;32m     65\u001b[0m             \u001b[1;31m# extra_args > 0\u001b[0m\u001b[1;33m\u001b[0m\u001b[1;33m\u001b[0m\u001b[1;33m\u001b[0m\u001b[0m\n",
      "\u001b[1;32mD:\\Akademik\\ProgramsAndIDEs\\Anaconda\\envs\\deep_learningPytorch\\lib\\site-packages\\sklearn\\metrics\\_classification.py\u001b[0m in \u001b[0;36maccuracy_score\u001b[1;34m(y_true, y_pred, normalize, sample_weight)\u001b[0m\n\u001b[0;32m    200\u001b[0m \u001b[1;33m\u001b[0m\u001b[0m\n\u001b[0;32m    201\u001b[0m     \u001b[1;31m# Compute accuracy for each possible representation\u001b[0m\u001b[1;33m\u001b[0m\u001b[1;33m\u001b[0m\u001b[1;33m\u001b[0m\u001b[0m\n\u001b[1;32m--> 202\u001b[1;33m     \u001b[0my_type\u001b[0m\u001b[1;33m,\u001b[0m \u001b[0my_true\u001b[0m\u001b[1;33m,\u001b[0m \u001b[0my_pred\u001b[0m \u001b[1;33m=\u001b[0m \u001b[0m_check_targets\u001b[0m\u001b[1;33m(\u001b[0m\u001b[0my_true\u001b[0m\u001b[1;33m,\u001b[0m \u001b[0my_pred\u001b[0m\u001b[1;33m)\u001b[0m\u001b[1;33m\u001b[0m\u001b[1;33m\u001b[0m\u001b[0m\n\u001b[0m\u001b[0;32m    203\u001b[0m     \u001b[0mcheck_consistent_length\u001b[0m\u001b[1;33m(\u001b[0m\u001b[0my_true\u001b[0m\u001b[1;33m,\u001b[0m \u001b[0my_pred\u001b[0m\u001b[1;33m,\u001b[0m \u001b[0msample_weight\u001b[0m\u001b[1;33m)\u001b[0m\u001b[1;33m\u001b[0m\u001b[1;33m\u001b[0m\u001b[0m\n\u001b[0;32m    204\u001b[0m     \u001b[1;32mif\u001b[0m \u001b[0my_type\u001b[0m\u001b[1;33m.\u001b[0m\u001b[0mstartswith\u001b[0m\u001b[1;33m(\u001b[0m\u001b[1;34m'multilabel'\u001b[0m\u001b[1;33m)\u001b[0m\u001b[1;33m:\u001b[0m\u001b[1;33m\u001b[0m\u001b[1;33m\u001b[0m\u001b[0m\n",
      "\u001b[1;32mD:\\Akademik\\ProgramsAndIDEs\\Anaconda\\envs\\deep_learningPytorch\\lib\\site-packages\\sklearn\\metrics\\_classification.py\u001b[0m in \u001b[0;36m_check_targets\u001b[1;34m(y_true, y_pred)\u001b[0m\n\u001b[0;32m     90\u001b[0m \u001b[1;33m\u001b[0m\u001b[0m\n\u001b[0;32m     91\u001b[0m     \u001b[1;32mif\u001b[0m \u001b[0mlen\u001b[0m\u001b[1;33m(\u001b[0m\u001b[0my_type\u001b[0m\u001b[1;33m)\u001b[0m \u001b[1;33m>\u001b[0m \u001b[1;36m1\u001b[0m\u001b[1;33m:\u001b[0m\u001b[1;33m\u001b[0m\u001b[1;33m\u001b[0m\u001b[0m\n\u001b[1;32m---> 92\u001b[1;33m         raise ValueError(\"Classification metrics can't handle a mix of {0} \"\n\u001b[0m\u001b[0;32m     93\u001b[0m                          \"and {1} targets\".format(type_true, type_pred))\n\u001b[0;32m     94\u001b[0m \u001b[1;33m\u001b[0m\u001b[0m\n",
      "\u001b[1;31mValueError\u001b[0m: Classification metrics can't handle a mix of unknown and binary targets"
     ]
    }
   ],
   "source": [
    "class LSTM(nn.Module):\n",
    "    def __init__(self, vocab_size, embed_dim, hidden_size, n_layers):\n",
    "        super().__init__()\n",
    "        self.hidden_size = hidden_size\n",
    "        self.embedding = nn.Embedding(vocab_size, embed_dim)\n",
    "        self.lstm = nn.LSTM(embed_dim, hidden_size, n_layers, batch_first=True)\n",
    "        self.output = nn.Linear(hidden_size, 1)\n",
    "        \n",
    "    def forward(self, x):\n",
    "        out = self.embedding(x)\n",
    "        out, _ = self.lstm(out)\n",
    "        out = out.contiguous().view(-1, self.hidden_size)\n",
    "        out = self.output(out)\n",
    "        out = out[-1,0]\n",
    "        out = torch.sigmoid(out).unsqueeze(0)\n",
    "        return out\n",
    "    \n",
    "model = LSTM(len(vocabuary), 64, 128, 3)\n",
    "model\n",
    "\n",
    "loss_function = nn.BCELoss()\n",
    "optimizer = optim.Adam(model.parameters(), lr=0.001)\n",
    "epochs = 10\n",
    "\n",
    "losses = []\n",
    "acc = []\n",
    "for e in range(1, epochs+1):\n",
    "    single_loss = []\n",
    "    preds = []\n",
    "    targets = []\n",
    "    for i, r in enumerate(indexed_review):\n",
    "        if len(r) <= 1:\n",
    "            continue\n",
    "        x = torch.Tensor([r]).long()\n",
    "        y = torch.Tensor([sentiment[i]])\n",
    "        \n",
    "        pred = model(x)\n",
    "        loss = loss_function(pred, y)\n",
    "        optimizer.zero_grad()\n",
    "        loss.backward()\n",
    "        optimizer.step()\n",
    "        \n",
    "        final_pred = np.round(pred.detach().numpy())\n",
    "        preds.append(final_pred)\n",
    "        targets.append(y)\n",
    "        single_loss.append(loss.item())\n",
    "        \n",
    "    losses.append(np.mean(single_loss))\n",
    "    accuracy = accuracy_score(targets, preds)\n",
    "    acc.append(accuracy)\n",
    "    if e%1 == 0:\n",
    "        print(\"Epoch\", e, \"--> Loss function: \", losses[-1], \"--> Accuracy: \", acc[-1])"
   ]
  },
  {
   "cell_type": "code",
   "execution_count": 48,
   "id": "accomplished-function",
   "metadata": {},
   "outputs": [
    {
     "name": "stdout",
     "output_type": "stream",
     "text": [
      "Epoch:  1 ... Loss function:  0.2110152020626486\n",
      "Epoch:  2 ... Loss function:  0.14169229699230343\n",
      "Epoch:  3 ... Loss function:  0.06068103324362616\n",
      "Epoch:  4 ... Loss function:  0.06633802757326629\n",
      "Epoch:  5 ... Loss function:  0.017547511260432892\n",
      "Epoch:  6 ... Loss function:  0.04700783118340049\n",
      "Epoch:  7 ... Loss function:  0.012185756198458596\n",
      "Epoch:  8 ... Loss function:  0.0007121129681844224\n",
      "Epoch:  9 ... Loss function:  0.0001753195352974352\n",
      "Epoch:  10 ... Loss function:  8.997756470745012e-05\n"
     ]
    }
   ],
   "source": [
    "losses = []\n",
    "acc = []\n",
    "for e in range(1, epochs+1):\n",
    "    single_loss = []\n",
    "    preds = []\n",
    "    targets = []\n",
    "    for i, r in enumerate(indexed_review):\n",
    "        if len(r) <= 1:\n",
    "            continue\n",
    "        x = torch.Tensor([r]).long()\n",
    "        y = torch.Tensor([sentiment[i]])\n",
    "    \n",
    "        pred = model(x)\n",
    "        loss = loss_function(pred, y)\n",
    "        optimizer.zero_grad()\n",
    "        loss.backward()\n",
    "        optimizer.step()\n",
    "    \n",
    "        final_pred = np.round(pred.detach().numpy())\n",
    "        preds.append(final_pred)\n",
    "        targets.append(y)\n",
    "        single_loss.append(loss.item())\n",
    "        \n",
    "    losses.append(np.mean(single_loss))\n",
    "\n",
    "    if e%1 == 0:\n",
    "        print(\"Epoch: \", e, \"... Loss function: \", losses[-1])"
   ]
  },
  {
   "cell_type": "code",
   "execution_count": 50,
   "id": "three-attack",
   "metadata": {},
   "outputs": [
    {
     "data": {
      "image/png": "[encoded data removed]",
      "text/plain": [
       "<Figure size 432x288 with 1 Axes>"
      ]
     },
     "metadata": {
      "needs_background": "light"
     },
     "output_type": "display_data"
    }
   ],
   "source": [
    "x_range = range(len(losses))\n",
    "plt.plot(x_range, losses)\n",
    "plt.xlabel(\"epoch\")\n",
    "plt.ylabel(\"loss func\")\n",
    "plt.show()"
   ]
  }
 ],
 "metadata": {
  "kernelspec": {
   "display_name": "Python 3",
   "language": "python",
   "name": "python3"
  },
  "language_info": {
   "codemirror_mode": {
    "name": "ipython",
    "version": 3
   },
   "file_extension": ".py",
   "mimetype": "text/x-python",
   "name": "python",
   "nbconvert_exporter": "python",
   "pygments_lexer": "ipython3",
   "version": "3.8.8"
  }
 },
 "nbformat": 4,
 "nbformat_minor": 5
}
