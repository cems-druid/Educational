{
 "cells": [
  {
   "cell_type": "code",
   "execution_count": 4,
   "id": "productive-plaza",
   "metadata": {},
   "outputs": [
    {
     "name": "stderr",
     "output_type": "stream",
     "text": [
      "<ipython-input-4-7f38b567a647>:13: FutureWarning: The default value of regex will change from True to False in a future version. In addition, single character regular expressions will*not* be treated as literal strings when regex=True.\n",
      "  test = test.str.replace(i,'')\n"
     ]
    },
    {
     "data": {
      "text/plain": [
       "0         Hey This is an example 1\n",
       "1         Hey This is an example 2\n",
       "2    Hey This is another example 4\n",
       "dtype: object"
      ]
     },
     "execution_count": 4,
     "metadata": {},
     "output_type": "execute_result"
    }
   ],
   "source": [
    "#preprocessing data: converting into lowercase\n",
    "#eliminating punctuation\n",
    "\n",
    "\n",
    "import pandas as pd\n",
    "import string\n",
    "from string import punctuation\n",
    "\n",
    "test = pd.Series(['Hey! This is an example #1.',\n",
    "                  'Hey! This is an example #2.',\n",
    "                  'Hey! This is another example #4.'])\n",
    "\n",
    "for i in punctuation:\n",
    "    test = test.str.replace(i,'')\n",
    "test"
   ]
  },
  {
   "cell_type": "code",
   "execution_count": null,
   "id": "extreme-shareware",
   "metadata": {},
   "outputs": [],
   "source": [
    "#The network will take the input data and assign a degree of relevance\n",
    "#to each word. These values will be updated during the training process\n",
    "#until the most relevant words are weighted more highly.\n",
    "\n",
    "class LSTM(nn.Module):\n",
    "    def __init__(self, vocab_size, embed_dim, hidden_size, n_layers):\n",
    "        super().__init__()\n",
    "        self.hidden_size = hidden_size\n",
    "        self.embedding = nn.Embedding(vocab_size, embed_dim)\n",
    "        self.lstm = nn.LSTM(embed_dim, hidden_size, n_layers)\n",
    "        self.output = nn.Linear(hidden_size, 1)\n",
    "        \n",
    "    def forward(self, x, states):\n",
    "        out = self.embedding(x)\n",
    "        out, states = self.lstm(out, states)\n",
    "        out = out.contiguous().view(-1, self.hidden_size)\n",
    "        out = self.output(out)\n",
    "        return out, states\n",
    "        \n",
    "        \n",
    "        \n",
    "        \n",
    "        \n",
    "        "
   ]
  }
 ],
 "metadata": {
  "kernelspec": {
   "display_name": "Python 3",
   "language": "python",
   "name": "python3"
  },
  "language_info": {
   "codemirror_mode": {
    "name": "ipython",
    "version": 3
   },
   "file_extension": ".py",
   "mimetype": "text/x-python",
   "name": "python",
   "nbconvert_exporter": "python",
   "pygments_lexer": "ipython3",
   "version": "3.8.8"
  }
 },
 "nbformat": 4,
 "nbformat_minor": 5
}
